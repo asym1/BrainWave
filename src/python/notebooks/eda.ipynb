{
 "cells": [
  {
   "cell_type": "markdown",
   "id": "c237d3b9",
   "metadata": {},
   "source": [
    "# Exploratory Data Analysis"
   ]
  },
  {
   "cell_type": "code",
   "execution_count": 24,
   "id": "f5da150e",
   "metadata": {},
   "outputs": [],
   "source": [
    "import pandas as pd\n",
    "import numpy as np\n",
    "\n",
    "table = pd.read_csv(\"../../../data/collected/ap_probability.csv\")"
   ]
  },
  {
   "cell_type": "code",
   "execution_count": 20,
   "id": "ae3efbfd",
   "metadata": {},
   "outputs": [
    {
     "data": {
      "application/vnd.microsoft.datawrangler.viewer.v0+json": {
       "columns": [
        {
         "name": "index",
         "rawType": "int64",
         "type": "integer"
        },
        {
         "name": "timestamp",
         "rawType": "object",
         "type": "string"
        },
        {
         "name": "alpha",
         "rawType": "object",
         "type": "unknown"
        },
        {
         "name": "beta",
         "rawType": "object",
         "type": "unknown"
        },
        {
         "name": "delta",
         "rawType": "object",
         "type": "unknown"
        },
        {
         "name": "gamma",
         "rawType": "object",
         "type": "unknown"
        },
        {
         "name": "theta",
         "rawType": "object",
         "type": "unknown"
        },
        {
         "name": "p_calm",
         "rawType": "float64",
         "type": "float"
        },
        {
         "name": "p_focus",
         "rawType": "float64",
         "type": "float"
        }
       ],
       "ref": "7ae62f50-b5ce-4fd2-9c04-e6fb00f5848b",
       "rows": [
        [
         "28",
         "07:29:40",
         "[2.7206865758102943, 2.537061307481876, 3.6973445384026014, 2.9603712791903423, 2.8204209665764015, 2.6241429946344117, 1.9212961744414363, 3.7292410313106843]",
         "[3.0870831894206368, 2.491472112074295, 2.764428105803145, 2.9517153823370474, 3.621992754306373, 3.182648797641613, 2.012454909046663, 1.906686724634292]",
         "[3.2092699089288317, 2.3190700224796084, 4.847127559883543, 3.1450652291816352, 1.5569442813464098, 1.4398673048855306, 1.2634746980285791, 5.107121834104856]",
         "[0.6324975512899664, 0.7062816624574366, 0.53769112314937, 0.7381104852597994, 0.6181263276834423, 0.7274344575874179, 0.7657412083040186, 0.9190306686273284]",
         "[4.658785874714427, 2.7560026434824607, 5.747518355735917, 2.762431579479422, 1.6304500236311283, 2.1268244604272537, 2.509199662417322, 3.2113726213762885]",
         null,
         null
        ],
        [
         "29",
         "07:29:40",
         null,
         null,
         null,
         null,
         null,
         null,
         "0.5187029003019757"
        ],
        [
         "30",
         "07:29:41",
         null,
         null,
         null,
         null,
         null,
         "0.3301363461028484",
         null
        ],
        [
         "31",
         "07:29:41",
         null,
         null,
         null,
         null,
         null,
         null,
         "0.5490240500943351"
        ],
        [
         "32",
         "07:29:42",
         null,
         null,
         null,
         null,
         null,
         "0.3799009596354603",
         null
        ]
       ],
       "shape": {
        "columns": 8,
        "rows": 5
       }
      },
      "text/html": [
       "<div>\n",
       "<style scoped>\n",
       "    .dataframe tbody tr th:only-of-type {\n",
       "        vertical-align: middle;\n",
       "    }\n",
       "\n",
       "    .dataframe tbody tr th {\n",
       "        vertical-align: top;\n",
       "    }\n",
       "\n",
       "    .dataframe thead th {\n",
       "        text-align: right;\n",
       "    }\n",
       "</style>\n",
       "<table border=\"1\" class=\"dataframe\">\n",
       "  <thead>\n",
       "    <tr style=\"text-align: right;\">\n",
       "      <th></th>\n",
       "      <th>timestamp</th>\n",
       "      <th>alpha</th>\n",
       "      <th>beta</th>\n",
       "      <th>delta</th>\n",
       "      <th>gamma</th>\n",
       "      <th>theta</th>\n",
       "      <th>p_calm</th>\n",
       "      <th>p_focus</th>\n",
       "    </tr>\n",
       "  </thead>\n",
       "  <tbody>\n",
       "    <tr>\n",
       "      <th>28</th>\n",
       "      <td>07:29:40</td>\n",
       "      <td>[2.7206865758102943, 2.537061307481876, 3.6973...</td>\n",
       "      <td>[3.0870831894206368, 2.491472112074295, 2.7644...</td>\n",
       "      <td>[3.2092699089288317, 2.3190700224796084, 4.847...</td>\n",
       "      <td>[0.6324975512899664, 0.7062816624574366, 0.537...</td>\n",
       "      <td>[4.658785874714427, 2.7560026434824607, 5.7475...</td>\n",
       "      <td>NaN</td>\n",
       "      <td>NaN</td>\n",
       "    </tr>\n",
       "    <tr>\n",
       "      <th>29</th>\n",
       "      <td>07:29:40</td>\n",
       "      <td>NaN</td>\n",
       "      <td>NaN</td>\n",
       "      <td>NaN</td>\n",
       "      <td>NaN</td>\n",
       "      <td>NaN</td>\n",
       "      <td>NaN</td>\n",
       "      <td>0.518703</td>\n",
       "    </tr>\n",
       "    <tr>\n",
       "      <th>30</th>\n",
       "      <td>07:29:41</td>\n",
       "      <td>NaN</td>\n",
       "      <td>NaN</td>\n",
       "      <td>NaN</td>\n",
       "      <td>NaN</td>\n",
       "      <td>NaN</td>\n",
       "      <td>0.330136</td>\n",
       "      <td>NaN</td>\n",
       "    </tr>\n",
       "    <tr>\n",
       "      <th>31</th>\n",
       "      <td>07:29:41</td>\n",
       "      <td>NaN</td>\n",
       "      <td>NaN</td>\n",
       "      <td>NaN</td>\n",
       "      <td>NaN</td>\n",
       "      <td>NaN</td>\n",
       "      <td>NaN</td>\n",
       "      <td>0.549024</td>\n",
       "    </tr>\n",
       "    <tr>\n",
       "      <th>32</th>\n",
       "      <td>07:29:42</td>\n",
       "      <td>NaN</td>\n",
       "      <td>NaN</td>\n",
       "      <td>NaN</td>\n",
       "      <td>NaN</td>\n",
       "      <td>NaN</td>\n",
       "      <td>0.379901</td>\n",
       "      <td>NaN</td>\n",
       "    </tr>\n",
       "  </tbody>\n",
       "</table>\n",
       "</div>"
      ],
      "text/plain": [
       "   timestamp                                              alpha  \\\n",
       "28  07:29:40  [2.7206865758102943, 2.537061307481876, 3.6973...   \n",
       "29  07:29:40                                                NaN   \n",
       "30  07:29:41                                                NaN   \n",
       "31  07:29:41                                                NaN   \n",
       "32  07:29:42                                                NaN   \n",
       "\n",
       "                                                 beta  \\\n",
       "28  [3.0870831894206368, 2.491472112074295, 2.7644...   \n",
       "29                                                NaN   \n",
       "30                                                NaN   \n",
       "31                                                NaN   \n",
       "32                                                NaN   \n",
       "\n",
       "                                                delta  \\\n",
       "28  [3.2092699089288317, 2.3190700224796084, 4.847...   \n",
       "29                                                NaN   \n",
       "30                                                NaN   \n",
       "31                                                NaN   \n",
       "32                                                NaN   \n",
       "\n",
       "                                                gamma  \\\n",
       "28  [0.6324975512899664, 0.7062816624574366, 0.537...   \n",
       "29                                                NaN   \n",
       "30                                                NaN   \n",
       "31                                                NaN   \n",
       "32                                                NaN   \n",
       "\n",
       "                                                theta    p_calm   p_focus  \n",
       "28  [4.658785874714427, 2.7560026434824607, 5.7475...       NaN       NaN  \n",
       "29                                                NaN       NaN  0.518703  \n",
       "30                                                NaN  0.330136       NaN  \n",
       "31                                                NaN       NaN  0.549024  \n",
       "32                                                NaN  0.379901       NaN  "
      ]
     },
     "execution_count": 20,
     "metadata": {},
     "output_type": "execute_result"
    }
   ],
   "source": [
    "table.tail()"
   ]
  },
  {
   "cell_type": "code",
   "execution_count": 21,
   "id": "c0d02cac",
   "metadata": {},
   "outputs": [
    {
     "data": {
      "text/plain": [
       "Index(['timestamp', 'alpha', 'beta', 'delta', 'gamma', 'theta', 'p_calm',\n",
       "       'p_focus'],\n",
       "      dtype='object')"
      ]
     },
     "execution_count": 21,
     "metadata": {},
     "output_type": "execute_result"
    }
   ],
   "source": [
    "table.columns"
   ]
  },
  {
   "cell_type": "code",
   "execution_count": 26,
   "id": "6c096136",
   "metadata": {},
   "outputs": [
    {
     "name": "stdout",
     "output_type": "stream",
     "text": [
      "<class 'pandas.core.frame.DataFrame'>\n",
      "RangeIndex: 31 entries, 0 to 30\n",
      "Data columns (total 8 columns):\n",
      " #   Column     Non-Null Count  Dtype  \n",
      "---  ------     --------------  -----  \n",
      " 0   timestamp  31 non-null     object \n",
      " 1   alpha      21 non-null     object \n",
      " 2   beta       21 non-null     object \n",
      " 3   delta      21 non-null     object \n",
      " 4   gamma      21 non-null     object \n",
      " 5   theta      21 non-null     object \n",
      " 6   p_calm     5 non-null      float64\n",
      " 7   p_focus    5 non-null      float64\n",
      "dtypes: float64(2), object(6)\n",
      "memory usage: 2.1+ KB\n"
     ]
    }
   ],
   "source": [
    "table.info()"
   ]
  },
  {
   "cell_type": "code",
   "execution_count": null,
   "id": "2d70ae6f",
   "metadata": {},
   "outputs": [],
   "source": []
  }
 ],
 "metadata": {
  "kernelspec": {
   "display_name": ".venv (3.13.5)",
   "language": "python",
   "name": "python3"
  },
  "language_info": {
   "codemirror_mode": {
    "name": "ipython",
    "version": 3
   },
   "file_extension": ".py",
   "mimetype": "text/x-python",
   "name": "python",
   "nbconvert_exporter": "python",
   "pygments_lexer": "ipython3",
   "version": "3.13.5"
  }
 },
 "nbformat": 4,
 "nbformat_minor": 5
}
