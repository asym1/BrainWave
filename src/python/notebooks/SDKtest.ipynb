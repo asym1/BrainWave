{
 "cells": [
  {
   "cell_type": "markdown",
   "id": "77432bdc",
   "metadata": {},
   "source": [
    "## This notebook is for testing the SDK before using any scripts for data retrieval / live feed\n",
    "- Make sure you have the .env file with the corrent variable names listed below before running the code"
   ]
  },
  {
   "cell_type": "code",
   "execution_count": 1,
   "id": "fed71131",
   "metadata": {},
   "outputs": [],
   "source": [
    "# Authentication for streaming data\n",
    "from neurosity import NeurositySDK\n",
    "from dotenv import load_dotenv\n",
    "import os\n",
    "\n",
    "load_dotenv()\n",
    "\n",
    "neurosity = NeurositySDK({\n",
    "    \"device_id\": os.getenv(\"NEUROSITY_DEVICE_ID\")\n",
    "})\n",
    "\n",
    "neurosity.login({\n",
    "    \"email\": os.getenv(\"NEUROSITY_EMAIL\"),\n",
    "    \"password\": os.getenv(\"NEUROSITY_PASSWORD\")\n",
    "})"
   ]
  },
  {
   "cell_type": "code",
   "execution_count": 2,
   "id": "6261b52b",
   "metadata": {},
   "outputs": [
    {
     "name": "stdout",
     "output_type": "stream",
     "text": [
      "OrderedDict({'channelNames': ['CP6', 'F6', 'C4', 'CP4', 'CP3', 'F5', 'C3', 'CP5'], 'channels': 8, 'deviceId': 'e425ea92bcd7bdae65a5c2b07322433d', 'deviceNickname': 'Emulator-E42', 'emulator': True, 'manufacturer': 'Neurosity, Inc', 'model': 'Emulator 2', 'modelName': 'Emulator', 'modelVersion': '2', 'osVersion': '14.5.0', 'samplingRate': 250})\n"
     ]
    }
   ],
   "source": [
    "# checking the info from the SDK\n",
    "info = neurosity.get_info()\n",
    "print(info)"
   ]
  },
  {
   "cell_type": "code",
   "execution_count": 6,
   "id": "39ee159b",
   "metadata": {},
   "outputs": [],
   "source": [
    "# Retrieving raw brainwaves for 5 seconds\n",
    "import time\n",
    "sample = 0\n",
    "\n",
    "def callback(data):\n",
    "    global sample\n",
    "    sample = data\n",
    "    \n",
    "unsubscribe = neurosity.brainwaves_raw(callback) # the function returned from calling the api is used to stop the data feed\n",
    "\n",
    "time.sleep(1)\n",
    "\n",
    "unsubscribe()"
   ]
  },
  {
   "cell_type": "code",
   "execution_count": 23,
   "id": "5fa8f198",
   "metadata": {},
   "outputs": [
    {
     "name": "stdout",
     "output_type": "stream",
     "text": [
      "[[ -4.30460869   0.67285763   3.49334861   3.54404222   0.23041538\n",
      "   -4.2623475   -7.40876278  -7.54713188  -4.89512244  -0.39810253\n",
      "    5.60307131  10.83046383  12.68695894  10.79899525   5.45209013\n",
      "   -0.99942738  -3.24031463   1.00874628   7.68964238  11.57046216\n",
      "   10.20206699   4.57415498   0.28245524   2.70477865   9.62902987]\n",
      " [-22.61463563 -13.3709513   -4.4441269    0.39379269   0.66675442\n",
      "   -1.64526164  -5.44571113 -12.11748018 -22.69585283 -34.11879444\n",
      "  -39.38938822 -32.84764968 -16.1738244    1.58943279  10.53262526\n",
      "    6.33550618  -5.70955497 -14.23118076 -12.64006449  -3.62882993\n",
      "    4.52529005   5.07287922  -0.401812    -3.74953258   0.40882516]\n",
      " [-14.21196287 -19.68118431 -18.11507936 -12.04096066  -6.65944619\n",
      "   -5.9973152   -9.00708016 -10.76201076  -7.88747318  -1.27959273\n",
      "    5.84380148  10.40693767  11.38135112   8.49151906   1.228637\n",
      "   -8.03248204 -15.32833138 -16.60931703  -8.28900037   6.75746335\n",
      "   19.72907343  23.85875513  17.64019025   5.30139813  -4.96919363]\n",
      " [ -2.91887259   5.57443503  16.23204227  26.79585409  32.1289735\n",
      "   29.73895466  20.81141306   7.58427852  -4.63035195 -10.16660762\n",
      "   -8.85779146  -5.49846706  -5.56665942 -10.48746519 -14.78263796\n",
      "  -11.59679402  -1.43591683   7.64229005   8.51861643   1.85991266\n",
      "   -5.1441339   -4.80129314   2.17626832   7.38227564   6.84504706]\n",
      " [-26.97811376 -24.39883851 -25.7568046  -27.53952408 -24.97990877\n",
      "  -15.42029197  -0.446238    14.46275374  24.82975263  30.46635863\n",
      "   31.96635882  28.93643261  22.91996575  15.59727293   6.90082008\n",
      "    0.24099308   0.09844743   4.57929828  10.43863231  16.03752628\n",
      "   17.82158962  14.2963038    6.74948804  -5.02974012 -19.31753127]\n",
      " [ -7.93675506  -6.3803306   -3.56626093  -0.6003465    0.70748186\n",
      "    2.12884188   4.47770318   4.40895598  -1.31222252 -12.06250111\n",
      "  -24.56020514 -33.75687339 -34.18075212 -25.05021159 -11.40130344\n",
      "    1.61999275  12.09688662  18.90311665  21.13021937  19.86209915\n",
      "   16.21420765  10.78668733   5.42195229   1.50838405  -1.14642104]\n",
      " [ -1.32379799   1.21678134   5.20144012   6.68348379   5.88512152\n",
      "    3.98211896   5.46938461  13.13672484  20.47631903  18.74287872\n",
      "    7.33459649  -6.9313668  -15.77491844 -14.94087319  -8.80476459\n",
      "   -5.52076282  -8.06159462 -14.22805561 -20.19559077 -22.94639859\n",
      "  -21.90284429 -18.10352649 -13.28437336 -10.29238779 -10.68337524]\n",
      " [ -6.22796102 -10.87990175  -7.73050323   1.40488962   9.6387258\n",
      "   12.63712057  11.36016682   9.86544372  11.79504893  16.88877563\n",
      "   22.68309306  26.78684562  27.01397023  22.84076002  15.52480627\n",
      "    6.20532749  -3.24108167 -10.09125717 -13.6794096  -15.02173818\n",
      "  -14.26543265 -11.64280302  -8.52345098  -4.68100645   1.3948934 ]]\n",
      "(8, 25)\n",
      "{'channelNames': ['CP6', 'F6', 'C4', 'CP4', 'CP3', 'F5', 'C3', 'CP5'], 'notchFrequency': '60Hz', 'samplingRate': 250, 'startTime': 1755682973246}\n"
     ]
    }
   ],
   "source": [
    "import matplotlib.pyplot as plt\n",
    "import numpy as np\n",
    "# What one epoch looks like\n",
    "# print(sample)\n",
    "\n",
    "# Storing & Visualizing \n",
    "data = np.array(sample['data'])  \n",
    "print(data)\n",
    "print(data.shape)\n",
    "print(sample['info'])"
   ]
  },
  {
   "cell_type": "code",
   "execution_count": null,
   "id": "964a50c0",
   "metadata": {},
   "outputs": [],
   "source": []
  },
  {
   "cell_type": "code",
   "execution_count": null,
   "id": "92d60901",
   "metadata": {},
   "outputs": [],
   "source": []
  }
 ],
 "metadata": {
  "kernelspec": {
   "display_name": ".venv (3.13.5)",
   "language": "python",
   "name": "python3"
  },
  "language_info": {
   "codemirror_mode": {
    "name": "ipython",
    "version": 3
   },
   "file_extension": ".py",
   "mimetype": "text/x-python",
   "name": "python",
   "nbconvert_exporter": "python",
   "pygments_lexer": "ipython3",
   "version": "3.13.5"
  }
 },
 "nbformat": 4,
 "nbformat_minor": 5
}
