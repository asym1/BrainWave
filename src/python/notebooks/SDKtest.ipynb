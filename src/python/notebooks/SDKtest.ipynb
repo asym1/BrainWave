{
 "cells": [
  {
   "cell_type": "markdown",
   "id": "77432bdc",
   "metadata": {},
   "source": [
    "## This notebook is for testing the SDK before using any scripts for data retrieval / live feed\n",
    "- Make sure you have the .env file with the corrent variable names listed below before running the code\n"
   ]
  }
 ],
 "metadata": {
  "language_info": {
   "name": "python"
  }
 },
 "nbformat": 4,
 "nbformat_minor": 5
}
